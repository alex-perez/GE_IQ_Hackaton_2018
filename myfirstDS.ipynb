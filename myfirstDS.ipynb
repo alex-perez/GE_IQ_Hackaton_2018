{
 "cells": [
  {
   "cell_type": "code",
   "execution_count": 3,
   "metadata": {},
   "outputs": [],
   "source": [
    "import pandas as pd\n",
    "import numpy as np"
   ]
  },
  {
   "cell_type": "code",
   "execution_count": 7,
   "metadata": {},
   "outputs": [],
   "source": [
    "t_ex = pd.read_csv('ex1data1.txt', header = None)"
   ]
  },
  {
   "cell_type": "code",
   "execution_count": 99,
   "metadata": {},
   "outputs": [],
   "source": [
    "fval = np.array(t_ex[0])\n",
    "X = np.column_stack((np.ones((97)),fval))\n",
    "y = np.array(t_ex[1])"
   ]
  },
  {
   "cell_type": "code",
   "execution_count": 100,
   "metadata": {},
   "outputs": [],
   "source": [
    "initTheta = np.zeros((2))"
   ]
  },
  {
   "cell_type": "code",
   "execution_count": 115,
   "metadata": {},
   "outputs": [],
   "source": [
    "alpha = 0.01\n",
    "iterations = 1500"
   ]
  },
  {
   "cell_type": "code",
   "execution_count": 128,
   "metadata": {},
   "outputs": [
    {
     "data": {
      "text/plain": [
       "54.24245508201238"
      ]
     },
     "execution_count": 128,
     "metadata": {},
     "output_type": "execute_result"
    }
   ],
   "source": [
    "def computeCost(cX, cy, ct):\n",
    "    m = len(cy)\n",
    "    predictions = cX @ ct\n",
    "    sqrErrors = (predictions - cy) ** 2\n",
    "    J = 1 / (2 * m) * sum(sqrErrors)\n",
    "    return J\n",
    "testTheta = np.array([-1, 2])\n",
    "testJ = computeCost(X, y, testTheta)\n",
    "testJ"
   ]
  },
  {
   "cell_type": "code",
   "execution_count": 126,
   "metadata": {},
   "outputs": [],
   "source": [
    "def gradientDescent(gX, gy, gt, alpha, iterations):\n",
    "    for i in range(iterations):\n",
    "        m = len(gy)\n",
    "        delta = ((gX @ gt - gy) @ gX) / m\n",
    "        gt = gt - (alpha * delta)\n",
    "    return gt"
   ]
  },
  {
   "cell_type": "code",
   "execution_count": 127,
   "metadata": {},
   "outputs": [
    {
     "name": "stdout",
     "output_type": "stream",
     "text": [
      "[-3.63029144  1.16636235]\n"
     ]
    }
   ],
   "source": [
    "theta = gradientDescent(X, y, initTheta, alpha, iterations)\n",
    "print(theta)"
   ]
  },
  {
   "cell_type": "code",
   "execution_count": 134,
   "metadata": {},
   "outputs": [
    {
     "name": "stdout",
     "output_type": "stream",
     "text": [
      "[ 8 14]\n",
      "(2,)\n",
      "(2, 2)\n",
      "(2,)\n"
     ]
    }
   ],
   "source": [
    "a = np.array([1, 2])\n",
    "b = np.array([[2, 4], [3, 5]])\n",
    "c = a @ b\n",
    "print(c)\n",
    "print(np.shape(a))\n",
    "print(np.shape(b))\n",
    "print(np.shape(c))"
   ]
  },
  {
   "cell_type": "code",
   "execution_count": 152,
   "metadata": {},
   "outputs": [
    {
     "name": "stdout",
     "output_type": "stream",
     "text": [
      "[[1 1 2 3]\n",
      " [2 4 5 6]]\n",
      "[3 5 7 9]\n"
     ]
    }
   ],
   "source": [
    "w = np.array([[1, 2, 3], [4, 5, 6]])\n",
    "v = np.array([1 , 2])\n",
    "z = np.column_stack((v,w))\n",
    "print(z)\n",
    "z2 = np.sum(z, 0) #0 for column sum, 1 for row sum\n",
    "print(z2)"
   ]
  },
  {
   "cell_type": "code",
   "execution_count": 153,
   "metadata": {},
   "outputs": [
    {
     "data": {
      "text/plain": [
       "array([[ 1,  2,  3],\n",
       "       [ 8, 10, 12]])"
      ]
     },
     "execution_count": 153,
     "metadata": {},
     "output_type": "execute_result"
    }
   ],
   "source": [
    "column_v = np.array([1, 2])\n",
    "#w[:,0] = column_v * w[:,0]\n",
    "#w[:,1] = column_v * w[:,1]\n",
    "(w.T * column_v).T"
   ]
  },
  {
   "cell_type": "code",
   "execution_count": null,
   "metadata": {},
   "outputs": [],
   "source": []
  }
 ],
 "metadata": {
  "kernelspec": {
   "display_name": "Python 3",
   "language": "python",
   "name": "python3"
  },
  "language_info": {
   "codemirror_mode": {
    "name": "ipython",
    "version": 3
   },
   "file_extension": ".py",
   "mimetype": "text/x-python",
   "name": "python",
   "nbconvert_exporter": "python",
   "pygments_lexer": "ipython3",
   "version": "3.6.5"
  }
 },
 "nbformat": 4,
 "nbformat_minor": 2
}
